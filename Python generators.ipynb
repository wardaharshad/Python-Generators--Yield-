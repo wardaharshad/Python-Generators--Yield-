{
 "cells": [
  {
   "cell_type": "code",
   "execution_count": null,
   "id": "corresponding-aluminum",
   "metadata": {},
   "outputs": [],
   "source": [
    "def Gen():\n",
    "    n= 1\n",
    "    print(\"First number\")\n",
    "    yield n\n",
    "    n+=1\n",
    "    print(\"Second number\")\n",
    "    yield n\n",
    "    \n",
    "for i in Gen():\n",
    "    print(i)"
   ]
  },
  {
   "cell_type": "code",
   "execution_count": null,
   "id": "victorian-quebec",
   "metadata": {},
   "outputs": [],
   "source": [
    "#using function\n",
    "def square_numbers(num):\n",
    "    result = []\n",
    "    for i in num:\n",
    "        result.append(i**2)\n",
    "    return result\n",
    "\n",
    "my_nums = square_numbers([3,7,9,6,4])\n",
    "print(my_nums)"
   ]
  },
  {
   "cell_type": "code",
   "execution_count": null,
   "id": "included-doubt",
   "metadata": {},
   "outputs": [],
   "source": [
    "#using generator\n",
    "def square_numbers(num):\n",
    "    for i in num:\n",
    "        yield(i**2)\n",
    "        \n",
    "my_nums = square_numbers([3,7,9,6,4])\n",
    "for num in my_nums:\n",
    "    print(num)"
   ]
  },
  {
   "cell_type": "code",
   "execution_count": 20,
   "id": "removable-horizon",
   "metadata": {},
   "outputs": [],
   "source": [
    "def word(strt):\n",
    "    length = len(strt)\n",
    "    for i in range(length -1, -1 ,-1):\n",
    "        yield strt[i]\n",
    "        \n",
    "for w in word(\"Hello Python\"):\n",
    "    print(w)"
   ]
  },
  {
   "cell_type": "code",
   "execution_count": null,
   "id": "complimentary-highland",
   "metadata": {},
   "outputs": [],
   "source": []
  }
 ],
 "metadata": {
  "kernelspec": {
   "display_name": "Python 3",
   "language": "python",
   "name": "python3"
  },
  "language_info": {
   "codemirror_mode": {
    "name": "ipython",
    "version": 3
   },
   "file_extension": ".py",
   "mimetype": "text/x-python",
   "name": "python",
   "nbconvert_exporter": "python",
   "pygments_lexer": "ipython3",
   "version": "3.8.7"
  }
 },
 "nbformat": 4,
 "nbformat_minor": 5
}
