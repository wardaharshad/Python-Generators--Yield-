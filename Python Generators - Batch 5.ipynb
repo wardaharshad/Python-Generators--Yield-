{
 "cells": [
  {
   "cell_type": "code",
   "execution_count": 2,
   "id": "naughty-converter",
   "metadata": {},
   "outputs": [
    {
     "name": "stdout",
     "output_type": "stream",
     "text": [
      "First number\n",
      "1\n",
      "Second number\n",
      "2\n"
     ]
    }
   ],
   "source": [
    "def gen():\n",
    "    n = 1\n",
    "    print(\"First number\")\n",
    "    yield n\n",
    "    n+=1\n",
    "    print(\"Second number\")\n",
    "    yield n\n",
    "    \n",
    "for i in gen():\n",
    "    print(i)"
   ]
  },
  {
   "cell_type": "code",
   "execution_count": 4,
   "id": "practical-executive",
   "metadata": {},
   "outputs": [
    {
     "name": "stdout",
     "output_type": "stream",
     "text": [
      "[9, 49, 81, 36, 16]\n"
     ]
    }
   ],
   "source": [
    "#using function\n",
    "def square_num(nums):\n",
    "    result = []\n",
    "    for i in  nums:\n",
    "        result.append(i**2)\n",
    "    return result\n",
    "\n",
    "my_nums = square_num([3,7,9,6,4])\n",
    "print(my_nums)"
   ]
  },
  {
   "cell_type": "code",
   "execution_count": 7,
   "id": "described-amateur",
   "metadata": {},
   "outputs": [
    {
     "name": "stdout",
     "output_type": "stream",
     "text": [
      "9\n",
      "49\n",
      "81\n",
      "36\n",
      "16\n"
     ]
    }
   ],
   "source": [
    "#using generator\n",
    "def square_num(nums):\n",
    "    for i in nums:\n",
    "        yield (i**2)\n",
    "        \n",
    "my_nums = square_num([3,7,9,6,4])\n",
    "#print(my_nums)\n",
    "for x in my_nums:\n",
    "    print(x)"
   ]
  },
  {
   "cell_type": "code",
   "execution_count": null,
   "id": "assumed-vietnam",
   "metadata": {},
   "outputs": [],
   "source": [
    "def word(start):\n",
    "    length = len(start)\n",
    "    for i in range(length-1, -1, -1):\n",
    "        yield start[i]\n",
    "        \n",
    "for w in word(\"Hello Python\"):\n",
    "    print(w)"
   ]
  },
  {
   "cell_type": "code",
   "execution_count": 13,
   "id": "chronic-prime",
   "metadata": {},
   "outputs": [
    {
     "name": "stdout",
     "output_type": "stream",
     "text": [
      "0\n",
      "1 x 1 =\n",
      "1\n",
      "2 x 2 =\n",
      "4\n",
      "3 x 3 =\n",
      "9\n",
      "4 x 4 =\n",
      "16\n",
      "5 x 5 =\n",
      "25\n",
      "6 x 6 =\n",
      "36\n",
      "7 x 7 =\n",
      "49\n",
      "8 x 8 =\n",
      "64\n",
      "9 x 9 =\n",
      "81\n",
      "10 x 10 =\n",
      "100\n",
      "11 x 11 =\n",
      "121\n",
      "12 x 12 =\n",
      "144\n",
      "13 x 13 =\n",
      "169\n",
      "14 x 14 =\n",
      "196\n",
      "15 x 15 =\n",
      "225\n",
      "16 x 16 =\n",
      "256\n",
      "17 x 17 =\n",
      "289\n",
      "18 x 18 =\n",
      "324\n",
      "19 x 19 =\n",
      "361\n",
      "20 x 20 =\n",
      "400\n"
     ]
    }
   ],
   "source": [
    "def square():\n",
    "    num= 0\n",
    "    while num <=100:\n",
    "        sq = num*num\n",
    "        yield sq\n",
    "        num+=1\n",
    "        if num >= 21:\n",
    "            break\n",
    "        else:\n",
    "            print(num, 'x', num, '=')\n",
    "        \n",
    "val = square()\n",
    "for i in val:\n",
    "    print(i)"
   ]
  },
  {
   "cell_type": "code",
   "execution_count": null,
   "id": "unknown-bridges",
   "metadata": {},
   "outputs": [],
   "source": []
  }
 ],
 "metadata": {
  "kernelspec": {
   "display_name": "Python 3",
   "language": "python",
   "name": "python3"
  },
  "language_info": {
   "codemirror_mode": {
    "name": "ipython",
    "version": 3
   },
   "file_extension": ".py",
   "mimetype": "text/x-python",
   "name": "python",
   "nbconvert_exporter": "python",
   "pygments_lexer": "ipython3",
   "version": "3.8.7"
  }
 },
 "nbformat": 4,
 "nbformat_minor": 5
}
